{
 "cells": [
  {
   "attachments": {},
   "cell_type": "markdown",
   "metadata": {},
   "source": [
    "# Exploratory Data Analysis"
   ]
  },
  {
   "cell_type": "code",
   "execution_count": 2,
   "metadata": {},
   "outputs": [],
   "source": [
    "import pandas as pd\n",
    "import numpy as np\n",
    "import plotly.express as px\n",
    "import streamlit as st\n"
   ]
  },
  {
   "cell_type": "code",
   "execution_count": 5,
   "metadata": {},
   "outputs": [],
   "source": [
    "df = pd.read_csv('processed_donner_pass.csv')"
   ]
  },
  {
   "cell_type": "code",
   "execution_count": 7,
   "metadata": {},
   "outputs": [
    {
     "name": "stdout",
     "output_type": "stream",
     "text": [
      "            air_temp_max_f  air_temp_min_f  daily_precip_cm  month  \\\n",
      "year_month                                                           \n",
      "1970-10          55.718194       31.677742         0.258097     10   \n",
      "1970-11          42.689300       28.303700         1.476587     11   \n",
      "1970-12          31.033226       16.306032         1.426497     12   \n",
      "1971-01          38.412935       17.788419         0.667774      1   \n",
      "1971-02          39.670893       16.408464         0.231321      2   \n",
      "...                    ...             ...              ...    ...   \n",
      "2019-05          53.019355       30.258065         0.564516      5   \n",
      "2019-06          67.700000       38.540000         0.023333      6   \n",
      "2019-07          73.283871       44.832258         0.000000      7   \n",
      "2019-08          75.432258       46.283871         0.000000      8   \n",
      "2019-09          63.560000       39.260000         0.206667      9   \n",
      "\n",
      "            new_snow_cm  season_total_precip_cm  season_total_snow_cm  \\\n",
      "year_month                                                              \n",
      "1970-10        1.597742                2.589981             14.584516   \n",
      "1970-11        5.533572               27.365807             79.048667   \n",
      "1970-12       18.216880               80.374987            494.402452   \n",
      "1971-01        5.649310              109.204959            762.260323   \n",
      "1971-02        1.074615              118.663221            833.760000   \n",
      "...                 ...                     ...                   ...   \n",
      "2019-05        1.870968              203.864516           1203.290323   \n",
      "2019-06        0.000000              214.836667           1239.500000   \n",
      "2019-07        0.000000              215.000000           1239.500000   \n",
      "2019-08        0.000000              215.000000           1239.500000   \n",
      "2019-09        0.433333              216.923333           1240.383333   \n",
      "\n",
      "            snowpack_depth_cm  year  \n",
      "year_month                           \n",
      "1970-10              7.292258  1970  \n",
      "1970-11              8.345714  1970  \n",
      "1970-12            203.044612  1970  \n",
      "1971-01            232.542976  1971  \n",
      "1971-02            181.676842  1971  \n",
      "...                       ...   ...  \n",
      "2019-05            183.758065  2019  \n",
      "2019-06             36.750000  2019  \n",
      "2019-07              0.000000  2019  \n",
      "2019-08              0.000000  2019  \n",
      "2019-09              0.400000  2019  \n",
      "\n",
      "[588 rows x 9 columns]\n"
     ]
    },
    {
     "name": "stderr",
     "output_type": "stream",
     "text": [
      "C:\\Users\\jncol\\AppData\\Local\\Temp\\ipykernel_9900\\3571148933.py:1: FutureWarning:\n",
      "\n",
      "pivot_table dropped a column because it failed to aggregate. This behavior is deprecated and will raise in a future version of pandas. Select only the columns that can be aggregated.\n",
      "\n"
     ]
    }
   ],
   "source": [
    "pivot_by_month = df.pivot_table(index='year_month')\n",
    "print(pivot_by_month)"
   ]
  },
  {
   "cell_type": "code",
   "execution_count": null,
   "metadata": {},
   "outputs": [],
   "source": []
  }
 ],
 "metadata": {
  "kernelspec": {
   "display_name": "base",
   "language": "python",
   "name": "python3"
  },
  "language_info": {
   "codemirror_mode": {
    "name": "ipython",
    "version": 3
   },
   "file_extension": ".py",
   "mimetype": "text/x-python",
   "name": "python",
   "nbconvert_exporter": "python",
   "pygments_lexer": "ipython3",
   "version": "3.9.16"
  },
  "orig_nbformat": 4
 },
 "nbformat": 4,
 "nbformat_minor": 2
}
